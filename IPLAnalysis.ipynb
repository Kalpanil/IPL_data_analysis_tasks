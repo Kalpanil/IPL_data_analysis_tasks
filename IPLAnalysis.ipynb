{
 "cells": [
  {
   "cell_type": "markdown",
   "id": "264dcba3-8b5c-4ce6-84c0-cb50cf5ddc47",
   "metadata": {},
   "source": [
    "# IPL DATA ANALYSIS"
   ]
  },
  {
   "cell_type": "code",
   "execution_count": null,
   "id": "c88062c1-a5f5-4514-aab8-0edc7d55c5c0",
   "metadata": {},
   "outputs": [],
   "source": [
    "import pandas as pd"
   ]
  },
  {
   "cell_type": "code",
   "execution_count": 2,
   "id": "76775cc1-bedb-4ce4-b302-092400e5bfd1",
   "metadata": {},
   "outputs": [],
   "source": [
    "import pandas as pd"
   ]
  },
  {
   "cell_type": "markdown",
   "id": "55c7a78d-8874-487a-a107-d2d51f07300b",
   "metadata": {},
   "source": [
    "## Loading the Datasets"
   ]
  },
  {
   "cell_type": "code",
   "execution_count": 4,
   "id": "39ed0562-de57-4e64-a14a-97c0901b4c22",
   "metadata": {},
   "outputs": [],
   "source": [
    "df1 = pd.read_csv(\"IPL Ball-by-Ball 2008-2020.csv\")"
   ]
  },
  {
   "cell_type": "code",
   "execution_count": 5,
   "id": "201e2170-ce1c-482c-8fc9-109e95aa20b0",
   "metadata": {},
   "outputs": [],
   "source": [
    "df2 = pd.read_csv(\"IPL Matches 2008-2020.csv\")"
   ]
  },
  {
   "cell_type": "markdown",
   "id": "ddd96c20-274e-42bb-a99c-6672c8808b69",
   "metadata": {},
   "source": [
    "### Analysing the datasets"
   ]
  },
  {
   "cell_type": "code",
   "execution_count": 6,
   "id": "bbe67d85-bb8e-41be-ad06-898c621e80df",
   "metadata": {},
   "outputs": [
    {
     "data": {
      "text/html": [
       "<div>\n",
       "<style scoped>\n",
       "    .dataframe tbody tr th:only-of-type {\n",
       "        vertical-align: middle;\n",
       "    }\n",
       "\n",
       "    .dataframe tbody tr th {\n",
       "        vertical-align: top;\n",
       "    }\n",
       "\n",
       "    .dataframe thead th {\n",
       "        text-align: right;\n",
       "    }\n",
       "</style>\n",
       "<table border=\"1\" class=\"dataframe\">\n",
       "  <thead>\n",
       "    <tr style=\"text-align: right;\">\n",
       "      <th></th>\n",
       "      <th>id</th>\n",
       "      <th>inning</th>\n",
       "      <th>over</th>\n",
       "      <th>ball</th>\n",
       "      <th>batsman</th>\n",
       "      <th>non_striker</th>\n",
       "      <th>bowler</th>\n",
       "      <th>batsman_runs</th>\n",
       "      <th>extra_runs</th>\n",
       "      <th>total_runs</th>\n",
       "      <th>non_boundary</th>\n",
       "      <th>is_wicket</th>\n",
       "      <th>dismissal_kind</th>\n",
       "      <th>player_dismissed</th>\n",
       "      <th>fielder</th>\n",
       "      <th>extras_type</th>\n",
       "      <th>batting_team</th>\n",
       "      <th>bowling_team</th>\n",
       "    </tr>\n",
       "  </thead>\n",
       "  <tbody>\n",
       "    <tr>\n",
       "      <th>0</th>\n",
       "      <td>335982</td>\n",
       "      <td>1</td>\n",
       "      <td>6</td>\n",
       "      <td>5</td>\n",
       "      <td>RT Ponting</td>\n",
       "      <td>BB McCullum</td>\n",
       "      <td>AA Noffke</td>\n",
       "      <td>1</td>\n",
       "      <td>0</td>\n",
       "      <td>1</td>\n",
       "      <td>0</td>\n",
       "      <td>0</td>\n",
       "      <td>NaN</td>\n",
       "      <td>NaN</td>\n",
       "      <td>NaN</td>\n",
       "      <td>NaN</td>\n",
       "      <td>Kolkata Knight Riders</td>\n",
       "      <td>Royal Challengers Bangalore</td>\n",
       "    </tr>\n",
       "    <tr>\n",
       "      <th>1</th>\n",
       "      <td>335982</td>\n",
       "      <td>1</td>\n",
       "      <td>6</td>\n",
       "      <td>6</td>\n",
       "      <td>BB McCullum</td>\n",
       "      <td>RT Ponting</td>\n",
       "      <td>AA Noffke</td>\n",
       "      <td>1</td>\n",
       "      <td>0</td>\n",
       "      <td>1</td>\n",
       "      <td>0</td>\n",
       "      <td>0</td>\n",
       "      <td>NaN</td>\n",
       "      <td>NaN</td>\n",
       "      <td>NaN</td>\n",
       "      <td>NaN</td>\n",
       "      <td>Kolkata Knight Riders</td>\n",
       "      <td>Royal Challengers Bangalore</td>\n",
       "    </tr>\n",
       "    <tr>\n",
       "      <th>2</th>\n",
       "      <td>335982</td>\n",
       "      <td>1</td>\n",
       "      <td>7</td>\n",
       "      <td>1</td>\n",
       "      <td>BB McCullum</td>\n",
       "      <td>RT Ponting</td>\n",
       "      <td>Z Khan</td>\n",
       "      <td>0</td>\n",
       "      <td>0</td>\n",
       "      <td>0</td>\n",
       "      <td>0</td>\n",
       "      <td>0</td>\n",
       "      <td>NaN</td>\n",
       "      <td>NaN</td>\n",
       "      <td>NaN</td>\n",
       "      <td>NaN</td>\n",
       "      <td>Kolkata Knight Riders</td>\n",
       "      <td>Royal Challengers Bangalore</td>\n",
       "    </tr>\n",
       "    <tr>\n",
       "      <th>3</th>\n",
       "      <td>335982</td>\n",
       "      <td>1</td>\n",
       "      <td>7</td>\n",
       "      <td>2</td>\n",
       "      <td>BB McCullum</td>\n",
       "      <td>RT Ponting</td>\n",
       "      <td>Z Khan</td>\n",
       "      <td>1</td>\n",
       "      <td>0</td>\n",
       "      <td>1</td>\n",
       "      <td>0</td>\n",
       "      <td>0</td>\n",
       "      <td>NaN</td>\n",
       "      <td>NaN</td>\n",
       "      <td>NaN</td>\n",
       "      <td>NaN</td>\n",
       "      <td>Kolkata Knight Riders</td>\n",
       "      <td>Royal Challengers Bangalore</td>\n",
       "    </tr>\n",
       "    <tr>\n",
       "      <th>4</th>\n",
       "      <td>335982</td>\n",
       "      <td>1</td>\n",
       "      <td>7</td>\n",
       "      <td>3</td>\n",
       "      <td>RT Ponting</td>\n",
       "      <td>BB McCullum</td>\n",
       "      <td>Z Khan</td>\n",
       "      <td>1</td>\n",
       "      <td>0</td>\n",
       "      <td>1</td>\n",
       "      <td>0</td>\n",
       "      <td>0</td>\n",
       "      <td>NaN</td>\n",
       "      <td>NaN</td>\n",
       "      <td>NaN</td>\n",
       "      <td>NaN</td>\n",
       "      <td>Kolkata Knight Riders</td>\n",
       "      <td>Royal Challengers Bangalore</td>\n",
       "    </tr>\n",
       "    <tr>\n",
       "      <th>...</th>\n",
       "      <td>...</td>\n",
       "      <td>...</td>\n",
       "      <td>...</td>\n",
       "      <td>...</td>\n",
       "      <td>...</td>\n",
       "      <td>...</td>\n",
       "      <td>...</td>\n",
       "      <td>...</td>\n",
       "      <td>...</td>\n",
       "      <td>...</td>\n",
       "      <td>...</td>\n",
       "      <td>...</td>\n",
       "      <td>...</td>\n",
       "      <td>...</td>\n",
       "      <td>...</td>\n",
       "      <td>...</td>\n",
       "      <td>...</td>\n",
       "      <td>...</td>\n",
       "    </tr>\n",
       "    <tr>\n",
       "      <th>193463</th>\n",
       "      <td>1237181</td>\n",
       "      <td>1</td>\n",
       "      <td>12</td>\n",
       "      <td>5</td>\n",
       "      <td>RR Pant</td>\n",
       "      <td>SS Iyer</td>\n",
       "      <td>NM Coulter-Nile</td>\n",
       "      <td>0</td>\n",
       "      <td>0</td>\n",
       "      <td>0</td>\n",
       "      <td>0</td>\n",
       "      <td>0</td>\n",
       "      <td>NaN</td>\n",
       "      <td>NaN</td>\n",
       "      <td>NaN</td>\n",
       "      <td>NaN</td>\n",
       "      <td>Delhi Capitals</td>\n",
       "      <td>Mumbai Indians</td>\n",
       "    </tr>\n",
       "    <tr>\n",
       "      <th>193464</th>\n",
       "      <td>1237181</td>\n",
       "      <td>1</td>\n",
       "      <td>12</td>\n",
       "      <td>6</td>\n",
       "      <td>RR Pant</td>\n",
       "      <td>SS Iyer</td>\n",
       "      <td>NM Coulter-Nile</td>\n",
       "      <td>1</td>\n",
       "      <td>0</td>\n",
       "      <td>1</td>\n",
       "      <td>0</td>\n",
       "      <td>0</td>\n",
       "      <td>NaN</td>\n",
       "      <td>NaN</td>\n",
       "      <td>NaN</td>\n",
       "      <td>NaN</td>\n",
       "      <td>Delhi Capitals</td>\n",
       "      <td>Mumbai Indians</td>\n",
       "    </tr>\n",
       "    <tr>\n",
       "      <th>193465</th>\n",
       "      <td>1237181</td>\n",
       "      <td>1</td>\n",
       "      <td>13</td>\n",
       "      <td>1</td>\n",
       "      <td>RR Pant</td>\n",
       "      <td>SS Iyer</td>\n",
       "      <td>KH Pandya</td>\n",
       "      <td>0</td>\n",
       "      <td>1</td>\n",
       "      <td>1</td>\n",
       "      <td>0</td>\n",
       "      <td>0</td>\n",
       "      <td>NaN</td>\n",
       "      <td>NaN</td>\n",
       "      <td>NaN</td>\n",
       "      <td>wides</td>\n",
       "      <td>Delhi Capitals</td>\n",
       "      <td>Mumbai Indians</td>\n",
       "    </tr>\n",
       "    <tr>\n",
       "      <th>193466</th>\n",
       "      <td>1237181</td>\n",
       "      <td>1</td>\n",
       "      <td>13</td>\n",
       "      <td>2</td>\n",
       "      <td>RR Pant</td>\n",
       "      <td>SS Iyer</td>\n",
       "      <td>KH Pandya</td>\n",
       "      <td>1</td>\n",
       "      <td>0</td>\n",
       "      <td>1</td>\n",
       "      <td>0</td>\n",
       "      <td>0</td>\n",
       "      <td>NaN</td>\n",
       "      <td>NaN</td>\n",
       "      <td>NaN</td>\n",
       "      <td>NaN</td>\n",
       "      <td>Delhi Capitals</td>\n",
       "      <td>Mumbai Indians</td>\n",
       "    </tr>\n",
       "    <tr>\n",
       "      <th>193467</th>\n",
       "      <td>1237181</td>\n",
       "      <td>1</td>\n",
       "      <td>13</td>\n",
       "      <td>3</td>\n",
       "      <td>SS Iyer</td>\n",
       "      <td>RR Pant</td>\n",
       "      <td>KH Pandya</td>\n",
       "      <td>1</td>\n",
       "      <td>0</td>\n",
       "      <td>1</td>\n",
       "      <td>0</td>\n",
       "      <td>0</td>\n",
       "      <td>NaN</td>\n",
       "      <td>NaN</td>\n",
       "      <td>NaN</td>\n",
       "      <td>NaN</td>\n",
       "      <td>Delhi Capitals</td>\n",
       "      <td>Mumbai Indians</td>\n",
       "    </tr>\n",
       "  </tbody>\n",
       "</table>\n",
       "<p>193468 rows × 18 columns</p>\n",
       "</div>"
      ],
      "text/plain": [
       "             id  inning  over  ball      batsman  non_striker  \\\n",
       "0        335982       1     6     5   RT Ponting  BB McCullum   \n",
       "1        335982       1     6     6  BB McCullum   RT Ponting   \n",
       "2        335982       1     7     1  BB McCullum   RT Ponting   \n",
       "3        335982       1     7     2  BB McCullum   RT Ponting   \n",
       "4        335982       1     7     3   RT Ponting  BB McCullum   \n",
       "...         ...     ...   ...   ...          ...          ...   \n",
       "193463  1237181       1    12     5      RR Pant      SS Iyer   \n",
       "193464  1237181       1    12     6      RR Pant      SS Iyer   \n",
       "193465  1237181       1    13     1      RR Pant      SS Iyer   \n",
       "193466  1237181       1    13     2      RR Pant      SS Iyer   \n",
       "193467  1237181       1    13     3      SS Iyer      RR Pant   \n",
       "\n",
       "                 bowler  batsman_runs  extra_runs  total_runs  non_boundary  \\\n",
       "0             AA Noffke             1           0           1             0   \n",
       "1             AA Noffke             1           0           1             0   \n",
       "2                Z Khan             0           0           0             0   \n",
       "3                Z Khan             1           0           1             0   \n",
       "4                Z Khan             1           0           1             0   \n",
       "...                 ...           ...         ...         ...           ...   \n",
       "193463  NM Coulter-Nile             0           0           0             0   \n",
       "193464  NM Coulter-Nile             1           0           1             0   \n",
       "193465        KH Pandya             0           1           1             0   \n",
       "193466        KH Pandya             1           0           1             0   \n",
       "193467        KH Pandya             1           0           1             0   \n",
       "\n",
       "        is_wicket dismissal_kind player_dismissed fielder extras_type  \\\n",
       "0               0            NaN              NaN     NaN         NaN   \n",
       "1               0            NaN              NaN     NaN         NaN   \n",
       "2               0            NaN              NaN     NaN         NaN   \n",
       "3               0            NaN              NaN     NaN         NaN   \n",
       "4               0            NaN              NaN     NaN         NaN   \n",
       "...           ...            ...              ...     ...         ...   \n",
       "193463          0            NaN              NaN     NaN         NaN   \n",
       "193464          0            NaN              NaN     NaN         NaN   \n",
       "193465          0            NaN              NaN     NaN       wides   \n",
       "193466          0            NaN              NaN     NaN         NaN   \n",
       "193467          0            NaN              NaN     NaN         NaN   \n",
       "\n",
       "                 batting_team                 bowling_team  \n",
       "0       Kolkata Knight Riders  Royal Challengers Bangalore  \n",
       "1       Kolkata Knight Riders  Royal Challengers Bangalore  \n",
       "2       Kolkata Knight Riders  Royal Challengers Bangalore  \n",
       "3       Kolkata Knight Riders  Royal Challengers Bangalore  \n",
       "4       Kolkata Knight Riders  Royal Challengers Bangalore  \n",
       "...                       ...                          ...  \n",
       "193463         Delhi Capitals               Mumbai Indians  \n",
       "193464         Delhi Capitals               Mumbai Indians  \n",
       "193465         Delhi Capitals               Mumbai Indians  \n",
       "193466         Delhi Capitals               Mumbai Indians  \n",
       "193467         Delhi Capitals               Mumbai Indians  \n",
       "\n",
       "[193468 rows x 18 columns]"
      ]
     },
     "execution_count": 6,
     "metadata": {},
     "output_type": "execute_result"
    }
   ],
   "source": [
    "df1"
   ]
  },
  {
   "cell_type": "code",
   "execution_count": 7,
   "id": "084156bc-0543-4d93-ad82-c64b9b566b4d",
   "metadata": {},
   "outputs": [
    {
     "data": {
      "text/html": [
       "<div>\n",
       "<style scoped>\n",
       "    .dataframe tbody tr th:only-of-type {\n",
       "        vertical-align: middle;\n",
       "    }\n",
       "\n",
       "    .dataframe tbody tr th {\n",
       "        vertical-align: top;\n",
       "    }\n",
       "\n",
       "    .dataframe thead th {\n",
       "        text-align: right;\n",
       "    }\n",
       "</style>\n",
       "<table border=\"1\" class=\"dataframe\">\n",
       "  <thead>\n",
       "    <tr style=\"text-align: right;\">\n",
       "      <th></th>\n",
       "      <th>id</th>\n",
       "      <th>city</th>\n",
       "      <th>date</th>\n",
       "      <th>player_of_match</th>\n",
       "      <th>venue</th>\n",
       "      <th>neutral_venue</th>\n",
       "      <th>team1</th>\n",
       "      <th>team2</th>\n",
       "      <th>toss_winner</th>\n",
       "      <th>toss_decision</th>\n",
       "      <th>winner</th>\n",
       "      <th>result</th>\n",
       "      <th>result_margin</th>\n",
       "      <th>eliminator</th>\n",
       "      <th>method</th>\n",
       "      <th>umpire1</th>\n",
       "      <th>umpire2</th>\n",
       "    </tr>\n",
       "  </thead>\n",
       "  <tbody>\n",
       "    <tr>\n",
       "      <th>0</th>\n",
       "      <td>335982</td>\n",
       "      <td>Bangalore</td>\n",
       "      <td>2008-04-18</td>\n",
       "      <td>BB McCullum</td>\n",
       "      <td>M Chinnaswamy Stadium</td>\n",
       "      <td>0</td>\n",
       "      <td>Royal Challengers Bangalore</td>\n",
       "      <td>Kolkata Knight Riders</td>\n",
       "      <td>Royal Challengers Bangalore</td>\n",
       "      <td>field</td>\n",
       "      <td>Kolkata Knight Riders</td>\n",
       "      <td>runs</td>\n",
       "      <td>140.0</td>\n",
       "      <td>N</td>\n",
       "      <td>NaN</td>\n",
       "      <td>Asad Rauf</td>\n",
       "      <td>RE Koertzen</td>\n",
       "    </tr>\n",
       "    <tr>\n",
       "      <th>1</th>\n",
       "      <td>335983</td>\n",
       "      <td>Chandigarh</td>\n",
       "      <td>2008-04-19</td>\n",
       "      <td>MEK Hussey</td>\n",
       "      <td>Punjab Cricket Association Stadium, Mohali</td>\n",
       "      <td>0</td>\n",
       "      <td>Kings XI Punjab</td>\n",
       "      <td>Chennai Super Kings</td>\n",
       "      <td>Chennai Super Kings</td>\n",
       "      <td>bat</td>\n",
       "      <td>Chennai Super Kings</td>\n",
       "      <td>runs</td>\n",
       "      <td>33.0</td>\n",
       "      <td>N</td>\n",
       "      <td>NaN</td>\n",
       "      <td>MR Benson</td>\n",
       "      <td>SL Shastri</td>\n",
       "    </tr>\n",
       "    <tr>\n",
       "      <th>2</th>\n",
       "      <td>335984</td>\n",
       "      <td>Delhi</td>\n",
       "      <td>2008-04-19</td>\n",
       "      <td>MF Maharoof</td>\n",
       "      <td>Feroz Shah Kotla</td>\n",
       "      <td>0</td>\n",
       "      <td>Delhi Daredevils</td>\n",
       "      <td>Rajasthan Royals</td>\n",
       "      <td>Rajasthan Royals</td>\n",
       "      <td>bat</td>\n",
       "      <td>Delhi Daredevils</td>\n",
       "      <td>wickets</td>\n",
       "      <td>9.0</td>\n",
       "      <td>N</td>\n",
       "      <td>NaN</td>\n",
       "      <td>Aleem Dar</td>\n",
       "      <td>GA Pratapkumar</td>\n",
       "    </tr>\n",
       "    <tr>\n",
       "      <th>3</th>\n",
       "      <td>335985</td>\n",
       "      <td>Mumbai</td>\n",
       "      <td>2008-04-20</td>\n",
       "      <td>MV Boucher</td>\n",
       "      <td>Wankhede Stadium</td>\n",
       "      <td>0</td>\n",
       "      <td>Mumbai Indians</td>\n",
       "      <td>Royal Challengers Bangalore</td>\n",
       "      <td>Mumbai Indians</td>\n",
       "      <td>bat</td>\n",
       "      <td>Royal Challengers Bangalore</td>\n",
       "      <td>wickets</td>\n",
       "      <td>5.0</td>\n",
       "      <td>N</td>\n",
       "      <td>NaN</td>\n",
       "      <td>SJ Davis</td>\n",
       "      <td>DJ Harper</td>\n",
       "    </tr>\n",
       "    <tr>\n",
       "      <th>4</th>\n",
       "      <td>335986</td>\n",
       "      <td>Kolkata</td>\n",
       "      <td>2008-04-20</td>\n",
       "      <td>DJ Hussey</td>\n",
       "      <td>Eden Gardens</td>\n",
       "      <td>0</td>\n",
       "      <td>Kolkata Knight Riders</td>\n",
       "      <td>Deccan Chargers</td>\n",
       "      <td>Deccan Chargers</td>\n",
       "      <td>bat</td>\n",
       "      <td>Kolkata Knight Riders</td>\n",
       "      <td>wickets</td>\n",
       "      <td>5.0</td>\n",
       "      <td>N</td>\n",
       "      <td>NaN</td>\n",
       "      <td>BF Bowden</td>\n",
       "      <td>K Hariharan</td>\n",
       "    </tr>\n",
       "    <tr>\n",
       "      <th>...</th>\n",
       "      <td>...</td>\n",
       "      <td>...</td>\n",
       "      <td>...</td>\n",
       "      <td>...</td>\n",
       "      <td>...</td>\n",
       "      <td>...</td>\n",
       "      <td>...</td>\n",
       "      <td>...</td>\n",
       "      <td>...</td>\n",
       "      <td>...</td>\n",
       "      <td>...</td>\n",
       "      <td>...</td>\n",
       "      <td>...</td>\n",
       "      <td>...</td>\n",
       "      <td>...</td>\n",
       "      <td>...</td>\n",
       "      <td>...</td>\n",
       "    </tr>\n",
       "    <tr>\n",
       "      <th>811</th>\n",
       "      <td>1216547</td>\n",
       "      <td>Dubai</td>\n",
       "      <td>2020-09-28</td>\n",
       "      <td>AB de Villiers</td>\n",
       "      <td>Dubai International Cricket Stadium</td>\n",
       "      <td>0</td>\n",
       "      <td>Royal Challengers Bangalore</td>\n",
       "      <td>Mumbai Indians</td>\n",
       "      <td>Mumbai Indians</td>\n",
       "      <td>field</td>\n",
       "      <td>Royal Challengers Bangalore</td>\n",
       "      <td>tie</td>\n",
       "      <td>NaN</td>\n",
       "      <td>Y</td>\n",
       "      <td>NaN</td>\n",
       "      <td>Nitin Menon</td>\n",
       "      <td>PR Reiffel</td>\n",
       "    </tr>\n",
       "    <tr>\n",
       "      <th>812</th>\n",
       "      <td>1237177</td>\n",
       "      <td>Dubai</td>\n",
       "      <td>2020-11-05</td>\n",
       "      <td>JJ Bumrah</td>\n",
       "      <td>Dubai International Cricket Stadium</td>\n",
       "      <td>0</td>\n",
       "      <td>Mumbai Indians</td>\n",
       "      <td>Delhi Capitals</td>\n",
       "      <td>Delhi Capitals</td>\n",
       "      <td>field</td>\n",
       "      <td>Mumbai Indians</td>\n",
       "      <td>runs</td>\n",
       "      <td>57.0</td>\n",
       "      <td>N</td>\n",
       "      <td>NaN</td>\n",
       "      <td>CB Gaffaney</td>\n",
       "      <td>Nitin Menon</td>\n",
       "    </tr>\n",
       "    <tr>\n",
       "      <th>813</th>\n",
       "      <td>1237178</td>\n",
       "      <td>Abu Dhabi</td>\n",
       "      <td>2020-11-06</td>\n",
       "      <td>KS Williamson</td>\n",
       "      <td>Sheikh Zayed Stadium</td>\n",
       "      <td>0</td>\n",
       "      <td>Royal Challengers Bangalore</td>\n",
       "      <td>Sunrisers Hyderabad</td>\n",
       "      <td>Sunrisers Hyderabad</td>\n",
       "      <td>field</td>\n",
       "      <td>Sunrisers Hyderabad</td>\n",
       "      <td>wickets</td>\n",
       "      <td>6.0</td>\n",
       "      <td>N</td>\n",
       "      <td>NaN</td>\n",
       "      <td>PR Reiffel</td>\n",
       "      <td>S Ravi</td>\n",
       "    </tr>\n",
       "    <tr>\n",
       "      <th>814</th>\n",
       "      <td>1237180</td>\n",
       "      <td>Abu Dhabi</td>\n",
       "      <td>2020-11-08</td>\n",
       "      <td>MP Stoinis</td>\n",
       "      <td>Sheikh Zayed Stadium</td>\n",
       "      <td>0</td>\n",
       "      <td>Delhi Capitals</td>\n",
       "      <td>Sunrisers Hyderabad</td>\n",
       "      <td>Delhi Capitals</td>\n",
       "      <td>bat</td>\n",
       "      <td>Delhi Capitals</td>\n",
       "      <td>runs</td>\n",
       "      <td>17.0</td>\n",
       "      <td>N</td>\n",
       "      <td>NaN</td>\n",
       "      <td>PR Reiffel</td>\n",
       "      <td>S Ravi</td>\n",
       "    </tr>\n",
       "    <tr>\n",
       "      <th>815</th>\n",
       "      <td>1237181</td>\n",
       "      <td>Dubai</td>\n",
       "      <td>2020-11-10</td>\n",
       "      <td>TA Boult</td>\n",
       "      <td>Dubai International Cricket Stadium</td>\n",
       "      <td>0</td>\n",
       "      <td>Delhi Capitals</td>\n",
       "      <td>Mumbai Indians</td>\n",
       "      <td>Delhi Capitals</td>\n",
       "      <td>bat</td>\n",
       "      <td>Mumbai Indians</td>\n",
       "      <td>wickets</td>\n",
       "      <td>5.0</td>\n",
       "      <td>N</td>\n",
       "      <td>NaN</td>\n",
       "      <td>CB Gaffaney</td>\n",
       "      <td>Nitin Menon</td>\n",
       "    </tr>\n",
       "  </tbody>\n",
       "</table>\n",
       "<p>816 rows × 17 columns</p>\n",
       "</div>"
      ],
      "text/plain": [
       "          id        city        date player_of_match  \\\n",
       "0     335982   Bangalore  2008-04-18     BB McCullum   \n",
       "1     335983  Chandigarh  2008-04-19      MEK Hussey   \n",
       "2     335984       Delhi  2008-04-19     MF Maharoof   \n",
       "3     335985      Mumbai  2008-04-20      MV Boucher   \n",
       "4     335986     Kolkata  2008-04-20       DJ Hussey   \n",
       "..       ...         ...         ...             ...   \n",
       "811  1216547       Dubai  2020-09-28  AB de Villiers   \n",
       "812  1237177       Dubai  2020-11-05       JJ Bumrah   \n",
       "813  1237178   Abu Dhabi  2020-11-06   KS Williamson   \n",
       "814  1237180   Abu Dhabi  2020-11-08      MP Stoinis   \n",
       "815  1237181       Dubai  2020-11-10        TA Boult   \n",
       "\n",
       "                                          venue  neutral_venue  \\\n",
       "0                         M Chinnaswamy Stadium              0   \n",
       "1    Punjab Cricket Association Stadium, Mohali              0   \n",
       "2                              Feroz Shah Kotla              0   \n",
       "3                              Wankhede Stadium              0   \n",
       "4                                  Eden Gardens              0   \n",
       "..                                          ...            ...   \n",
       "811         Dubai International Cricket Stadium              0   \n",
       "812         Dubai International Cricket Stadium              0   \n",
       "813                        Sheikh Zayed Stadium              0   \n",
       "814                        Sheikh Zayed Stadium              0   \n",
       "815         Dubai International Cricket Stadium              0   \n",
       "\n",
       "                           team1                        team2  \\\n",
       "0    Royal Challengers Bangalore        Kolkata Knight Riders   \n",
       "1                Kings XI Punjab          Chennai Super Kings   \n",
       "2               Delhi Daredevils             Rajasthan Royals   \n",
       "3                 Mumbai Indians  Royal Challengers Bangalore   \n",
       "4          Kolkata Knight Riders              Deccan Chargers   \n",
       "..                           ...                          ...   \n",
       "811  Royal Challengers Bangalore               Mumbai Indians   \n",
       "812               Mumbai Indians               Delhi Capitals   \n",
       "813  Royal Challengers Bangalore          Sunrisers Hyderabad   \n",
       "814               Delhi Capitals          Sunrisers Hyderabad   \n",
       "815               Delhi Capitals               Mumbai Indians   \n",
       "\n",
       "                     toss_winner toss_decision                       winner  \\\n",
       "0    Royal Challengers Bangalore         field        Kolkata Knight Riders   \n",
       "1            Chennai Super Kings           bat          Chennai Super Kings   \n",
       "2               Rajasthan Royals           bat             Delhi Daredevils   \n",
       "3                 Mumbai Indians           bat  Royal Challengers Bangalore   \n",
       "4                Deccan Chargers           bat        Kolkata Knight Riders   \n",
       "..                           ...           ...                          ...   \n",
       "811               Mumbai Indians         field  Royal Challengers Bangalore   \n",
       "812               Delhi Capitals         field               Mumbai Indians   \n",
       "813          Sunrisers Hyderabad         field          Sunrisers Hyderabad   \n",
       "814               Delhi Capitals           bat               Delhi Capitals   \n",
       "815               Delhi Capitals           bat               Mumbai Indians   \n",
       "\n",
       "      result  result_margin eliminator method      umpire1         umpire2  \n",
       "0       runs          140.0          N    NaN    Asad Rauf     RE Koertzen  \n",
       "1       runs           33.0          N    NaN    MR Benson      SL Shastri  \n",
       "2    wickets            9.0          N    NaN    Aleem Dar  GA Pratapkumar  \n",
       "3    wickets            5.0          N    NaN     SJ Davis       DJ Harper  \n",
       "4    wickets            5.0          N    NaN    BF Bowden     K Hariharan  \n",
       "..       ...            ...        ...    ...          ...             ...  \n",
       "811      tie            NaN          Y    NaN  Nitin Menon      PR Reiffel  \n",
       "812     runs           57.0          N    NaN  CB Gaffaney     Nitin Menon  \n",
       "813  wickets            6.0          N    NaN   PR Reiffel          S Ravi  \n",
       "814     runs           17.0          N    NaN   PR Reiffel          S Ravi  \n",
       "815  wickets            5.0          N    NaN  CB Gaffaney     Nitin Menon  \n",
       "\n",
       "[816 rows x 17 columns]"
      ]
     },
     "execution_count": 7,
     "metadata": {},
     "output_type": "execute_result"
    }
   ],
   "source": [
    "df2"
   ]
  },
  {
   "cell_type": "code",
   "execution_count": 11,
   "id": "7f269efd-2e5a-449f-8c16-391fabf1e6f5",
   "metadata": {},
   "outputs": [
    {
     "data": {
      "text/plain": [
       "(193468, 18)"
      ]
     },
     "execution_count": 11,
     "metadata": {},
     "output_type": "execute_result"
    }
   ],
   "source": [
    "df1.shape"
   ]
  },
  {
   "cell_type": "code",
   "execution_count": 10,
   "id": "94c593da-05ee-4627-b359-d19051ed8771",
   "metadata": {},
   "outputs": [
    {
     "data": {
      "text/plain": [
       "(816, 17)"
      ]
     },
     "execution_count": 10,
     "metadata": {},
     "output_type": "execute_result"
    }
   ],
   "source": [
    "df2.shape"
   ]
  },
  {
   "cell_type": "code",
   "execution_count": 15,
   "id": "f9649064-c65a-4a5b-9743-a53e004aaf7b",
   "metadata": {},
   "outputs": [
    {
     "data": {
      "text/plain": [
       "738056"
      ]
     },
     "execution_count": 15,
     "metadata": {},
     "output_type": "execute_result"
    }
   ],
   "source": [
    "df1.isnull().sum().sum()"
   ]
  },
  {
   "cell_type": "code",
   "execution_count": 17,
   "id": "e39f4055-349b-4b14-bdb9-2ba1f623ad3d",
   "metadata": {},
   "outputs": [
    {
     "data": {
      "text/plain": [
       "id                   0\n",
       "city                13\n",
       "date                 0\n",
       "player_of_match      4\n",
       "venue                0\n",
       "neutral_venue        0\n",
       "team1                0\n",
       "team2                0\n",
       "toss_winner          0\n",
       "toss_decision        0\n",
       "winner               4\n",
       "result               4\n",
       "result_margin       17\n",
       "eliminator           4\n",
       "method             797\n",
       "umpire1              0\n",
       "umpire2              0\n",
       "dtype: int64"
      ]
     },
     "execution_count": 17,
     "metadata": {},
     "output_type": "execute_result"
    }
   ],
   "source": [
    "df2.isnull().sum()"
   ]
  },
  {
   "cell_type": "code",
   "execution_count": 18,
   "id": "64a2ed80-5323-4378-899a-37f98204fbf0",
   "metadata": {},
   "outputs": [
    {
     "data": {
      "text/html": [
       "<div>\n",
       "<style scoped>\n",
       "    .dataframe tbody tr th:only-of-type {\n",
       "        vertical-align: middle;\n",
       "    }\n",
       "\n",
       "    .dataframe tbody tr th {\n",
       "        vertical-align: top;\n",
       "    }\n",
       "\n",
       "    .dataframe thead th {\n",
       "        text-align: right;\n",
       "    }\n",
       "</style>\n",
       "<table border=\"1\" class=\"dataframe\">\n",
       "  <thead>\n",
       "    <tr style=\"text-align: right;\">\n",
       "      <th></th>\n",
       "      <th>id</th>\n",
       "      <th>inning</th>\n",
       "      <th>over</th>\n",
       "      <th>ball</th>\n",
       "      <th>batsman_runs</th>\n",
       "      <th>extra_runs</th>\n",
       "      <th>total_runs</th>\n",
       "      <th>non_boundary</th>\n",
       "      <th>is_wicket</th>\n",
       "    </tr>\n",
       "  </thead>\n",
       "  <tbody>\n",
       "    <tr>\n",
       "      <th>count</th>\n",
       "      <td>1.934680e+05</td>\n",
       "      <td>193468.000000</td>\n",
       "      <td>193468.000000</td>\n",
       "      <td>193468.000000</td>\n",
       "      <td>193468.000000</td>\n",
       "      <td>193468.000000</td>\n",
       "      <td>193468.000000</td>\n",
       "      <td>193468.000000</td>\n",
       "      <td>193468.000000</td>\n",
       "    </tr>\n",
       "    <tr>\n",
       "      <th>mean</th>\n",
       "      <td>7.567688e+05</td>\n",
       "      <td>1.482131</td>\n",
       "      <td>9.177027</td>\n",
       "      <td>3.615967</td>\n",
       "      <td>1.240231</td>\n",
       "      <td>0.066414</td>\n",
       "      <td>1.306645</td>\n",
       "      <td>0.000083</td>\n",
       "      <td>0.049078</td>\n",
       "    </tr>\n",
       "    <tr>\n",
       "      <th>std</th>\n",
       "      <td>3.060971e+05</td>\n",
       "      <td>0.499682</td>\n",
       "      <td>5.676848</td>\n",
       "      <td>1.807128</td>\n",
       "      <td>1.610867</td>\n",
       "      <td>0.339991</td>\n",
       "      <td>1.598802</td>\n",
       "      <td>0.009094</td>\n",
       "      <td>0.216031</td>\n",
       "    </tr>\n",
       "    <tr>\n",
       "      <th>min</th>\n",
       "      <td>3.359820e+05</td>\n",
       "      <td>1.000000</td>\n",
       "      <td>0.000000</td>\n",
       "      <td>1.000000</td>\n",
       "      <td>0.000000</td>\n",
       "      <td>0.000000</td>\n",
       "      <td>0.000000</td>\n",
       "      <td>0.000000</td>\n",
       "      <td>0.000000</td>\n",
       "    </tr>\n",
       "    <tr>\n",
       "      <th>25%</th>\n",
       "      <td>5.012270e+05</td>\n",
       "      <td>1.000000</td>\n",
       "      <td>4.000000</td>\n",
       "      <td>2.000000</td>\n",
       "      <td>0.000000</td>\n",
       "      <td>0.000000</td>\n",
       "      <td>0.000000</td>\n",
       "      <td>0.000000</td>\n",
       "      <td>0.000000</td>\n",
       "    </tr>\n",
       "    <tr>\n",
       "      <th>50%</th>\n",
       "      <td>7.292970e+05</td>\n",
       "      <td>1.000000</td>\n",
       "      <td>9.000000</td>\n",
       "      <td>4.000000</td>\n",
       "      <td>1.000000</td>\n",
       "      <td>0.000000</td>\n",
       "      <td>1.000000</td>\n",
       "      <td>0.000000</td>\n",
       "      <td>0.000000</td>\n",
       "    </tr>\n",
       "    <tr>\n",
       "      <th>75%</th>\n",
       "      <td>1.082628e+06</td>\n",
       "      <td>2.000000</td>\n",
       "      <td>14.000000</td>\n",
       "      <td>5.000000</td>\n",
       "      <td>1.000000</td>\n",
       "      <td>0.000000</td>\n",
       "      <td>1.000000</td>\n",
       "      <td>0.000000</td>\n",
       "      <td>0.000000</td>\n",
       "    </tr>\n",
       "    <tr>\n",
       "      <th>max</th>\n",
       "      <td>1.237181e+06</td>\n",
       "      <td>2.000000</td>\n",
       "      <td>19.000000</td>\n",
       "      <td>9.000000</td>\n",
       "      <td>6.000000</td>\n",
       "      <td>7.000000</td>\n",
       "      <td>7.000000</td>\n",
       "      <td>1.000000</td>\n",
       "      <td>1.000000</td>\n",
       "    </tr>\n",
       "  </tbody>\n",
       "</table>\n",
       "</div>"
      ],
      "text/plain": [
       "                 id         inning           over           ball  \\\n",
       "count  1.934680e+05  193468.000000  193468.000000  193468.000000   \n",
       "mean   7.567688e+05       1.482131       9.177027       3.615967   \n",
       "std    3.060971e+05       0.499682       5.676848       1.807128   \n",
       "min    3.359820e+05       1.000000       0.000000       1.000000   \n",
       "25%    5.012270e+05       1.000000       4.000000       2.000000   \n",
       "50%    7.292970e+05       1.000000       9.000000       4.000000   \n",
       "75%    1.082628e+06       2.000000      14.000000       5.000000   \n",
       "max    1.237181e+06       2.000000      19.000000       9.000000   \n",
       "\n",
       "        batsman_runs     extra_runs     total_runs   non_boundary  \\\n",
       "count  193468.000000  193468.000000  193468.000000  193468.000000   \n",
       "mean        1.240231       0.066414       1.306645       0.000083   \n",
       "std         1.610867       0.339991       1.598802       0.009094   \n",
       "min         0.000000       0.000000       0.000000       0.000000   \n",
       "25%         0.000000       0.000000       0.000000       0.000000   \n",
       "50%         1.000000       0.000000       1.000000       0.000000   \n",
       "75%         1.000000       0.000000       1.000000       0.000000   \n",
       "max         6.000000       7.000000       7.000000       1.000000   \n",
       "\n",
       "           is_wicket  \n",
       "count  193468.000000  \n",
       "mean        0.049078  \n",
       "std         0.216031  \n",
       "min         0.000000  \n",
       "25%         0.000000  \n",
       "50%         0.000000  \n",
       "75%         0.000000  \n",
       "max         1.000000  "
      ]
     },
     "execution_count": 18,
     "metadata": {},
     "output_type": "execute_result"
    }
   ],
   "source": [
    "df1.describe()"
   ]
  },
  {
   "cell_type": "code",
   "execution_count": 19,
   "id": "dca94122-d8a3-44b4-8eef-447a9ab377e8",
   "metadata": {},
   "outputs": [
    {
     "data": {
      "text/html": [
       "<div>\n",
       "<style scoped>\n",
       "    .dataframe tbody tr th:only-of-type {\n",
       "        vertical-align: middle;\n",
       "    }\n",
       "\n",
       "    .dataframe tbody tr th {\n",
       "        vertical-align: top;\n",
       "    }\n",
       "\n",
       "    .dataframe thead th {\n",
       "        text-align: right;\n",
       "    }\n",
       "</style>\n",
       "<table border=\"1\" class=\"dataframe\">\n",
       "  <thead>\n",
       "    <tr style=\"text-align: right;\">\n",
       "      <th></th>\n",
       "      <th>id</th>\n",
       "      <th>neutral_venue</th>\n",
       "      <th>result_margin</th>\n",
       "    </tr>\n",
       "  </thead>\n",
       "  <tbody>\n",
       "    <tr>\n",
       "      <th>count</th>\n",
       "      <td>8.160000e+02</td>\n",
       "      <td>816.000000</td>\n",
       "      <td>799.000000</td>\n",
       "    </tr>\n",
       "    <tr>\n",
       "      <th>mean</th>\n",
       "      <td>7.563496e+05</td>\n",
       "      <td>0.094363</td>\n",
       "      <td>17.321652</td>\n",
       "    </tr>\n",
       "    <tr>\n",
       "      <th>std</th>\n",
       "      <td>3.058943e+05</td>\n",
       "      <td>0.292512</td>\n",
       "      <td>22.068427</td>\n",
       "    </tr>\n",
       "    <tr>\n",
       "      <th>min</th>\n",
       "      <td>3.359820e+05</td>\n",
       "      <td>0.000000</td>\n",
       "      <td>1.000000</td>\n",
       "    </tr>\n",
       "    <tr>\n",
       "      <th>25%</th>\n",
       "      <td>5.012278e+05</td>\n",
       "      <td>0.000000</td>\n",
       "      <td>6.000000</td>\n",
       "    </tr>\n",
       "    <tr>\n",
       "      <th>50%</th>\n",
       "      <td>7.292980e+05</td>\n",
       "      <td>0.000000</td>\n",
       "      <td>8.000000</td>\n",
       "    </tr>\n",
       "    <tr>\n",
       "      <th>75%</th>\n",
       "      <td>1.082626e+06</td>\n",
       "      <td>0.000000</td>\n",
       "      <td>19.500000</td>\n",
       "    </tr>\n",
       "    <tr>\n",
       "      <th>max</th>\n",
       "      <td>1.237181e+06</td>\n",
       "      <td>1.000000</td>\n",
       "      <td>146.000000</td>\n",
       "    </tr>\n",
       "  </tbody>\n",
       "</table>\n",
       "</div>"
      ],
      "text/plain": [
       "                 id  neutral_venue  result_margin\n",
       "count  8.160000e+02     816.000000     799.000000\n",
       "mean   7.563496e+05       0.094363      17.321652\n",
       "std    3.058943e+05       0.292512      22.068427\n",
       "min    3.359820e+05       0.000000       1.000000\n",
       "25%    5.012278e+05       0.000000       6.000000\n",
       "50%    7.292980e+05       0.000000       8.000000\n",
       "75%    1.082626e+06       0.000000      19.500000\n",
       "max    1.237181e+06       1.000000     146.000000"
      ]
     },
     "execution_count": 19,
     "metadata": {},
     "output_type": "execute_result"
    }
   ],
   "source": [
    "df2.describe()"
   ]
  },
  {
   "cell_type": "markdown",
   "id": "3f8d9035-3b13-4d3a-8557-ec6231dccfb4",
   "metadata": {},
   "source": [
    "## Set of Tasks Given:\n",
    "Task 1: Total number of matches played\n",
    "\n",
    "Task 2: Total number of runs scored\n",
    "\n",
    "Task 3: Average runs scored per match\n",
    "\n",
    "Task 4: Umpire with the highest number of matches officiated\n",
    "\n",
    "Task 5: Team with the most toss wins\n",
    "\n",
    "Task 6: Most frequent decision after winning the toss\n",
    "\n",
    "Task 7: Most common match result\n",
    "\n",
    "Task 8: Team with most matches played\n",
    "\n",
    "Task 9: Team with most wins\n",
    "\n",
    "Task 10: Team with the highest win percentage\n",
    "\n",
    "Task 11: Venue where RCB won most matches\n",
    "\n",
    "Task 12: Most frequent dismissal type for \"V Kohli\"\n",
    "\n",
    "Task 13: Highest total score in an inning\n",
    "\n",
    "Task 14: Batsman with most balls played\n",
    "\n",
    "Task 15: Highest run-scorer\n",
    "\n",
    "Task 16: Batsman with most 4s\n",
    "\n",
    "Task 17: Batsman with most 6s\n",
    "\n",
    "Task 18: Bowler with most wickets\n",
    "\n",
    "Task 19: Stadium with most matches\n",
    "\n",
    "Task 20: Most \"Man of the Match\" awards"
   ]
  },
  {
   "cell_type": "markdown",
   "id": "a3c21253-8a60-4c2c-98d5-869b45d332a4",
   "metadata": {},
   "source": [
    "### Task 1: Total number of matches played"
   ]
  },
  {
   "cell_type": "code",
   "execution_count": 135,
   "id": "d5da2f06-de16-4460-89cc-19bb0d05f87b",
   "metadata": {},
   "outputs": [
    {
     "name": "stdout",
     "output_type": "stream",
     "text": [
      "816\n"
     ]
    }
   ],
   "source": [
    "df2[['city']].sum\n",
    "total_matches= df2.shape[0]\n",
    "print(total_matches)"
   ]
  },
  {
   "cell_type": "markdown",
   "id": "2939ed26-a359-48ef-ade4-39ea69ded2df",
   "metadata": {},
   "source": [
    "### Task 2: Total number of runs scored"
   ]
  },
  {
   "cell_type": "code",
   "execution_count": 136,
   "id": "b71b72c6-a43d-43f4-9cd2-9e006bd84dd4",
   "metadata": {},
   "outputs": [
    {
     "name": "stdout",
     "output_type": "stream",
     "text": [
      "252794\n"
     ]
    }
   ],
   "source": [
    "total_runs= df1['total_runs'].sum()\n",
    "print(total_runs)"
   ]
  },
  {
   "cell_type": "markdown",
   "id": "7a7ade96-8b46-48ca-986a-9a670b0f84b2",
   "metadata": {},
   "source": [
    "### Task 3: Average runs scored per match"
   ]
  },
  {
   "cell_type": "code",
   "execution_count": 137,
   "id": "709498a7-bfb3-4487-bdfe-22437f187fa3",
   "metadata": {},
   "outputs": [
    {
     "name": "stdout",
     "output_type": "stream",
     "text": [
      "310.0\n"
     ]
    }
   ],
   "source": [
    "average_runs = total_runs / total_matches\n",
    "print(average_runs.round())"
   ]
  },
  {
   "cell_type": "markdown",
   "id": "c8937c9f-3721-4ab8-b0b0-bb54809dfe4f",
   "metadata": {},
   "source": [
    "### Task 4: Umpire with the highest number of matches officiated"
   ]
  },
  {
   "cell_type": "code",
   "execution_count": 140,
   "id": "ddc644e4-b200-4525-8ffa-b2094d02af2c",
   "metadata": {},
   "outputs": [
    {
     "data": {
      "text/plain": [
       "count       1632\n",
       "unique        56\n",
       "top       S Ravi\n",
       "freq         121\n",
       "dtype: object"
      ]
     },
     "execution_count": 140,
     "metadata": {},
     "output_type": "execute_result"
    }
   ],
   "source": [
    "umpires.describe()"
   ]
  },
  {
   "cell_type": "code",
   "execution_count": 138,
   "id": "04e534ee-8bb4-423f-8c62-6d22869b43a1",
   "metadata": {},
   "outputs": [
    {
     "name": "stdout",
     "output_type": "stream",
     "text": [
      "S Ravi\n"
     ]
    }
   ],
   "source": [
    "umpires = pd.concat([df2['umpire1'], df2['umpire2']])\n",
    "umpire_counts = umpires.value_counts()  # Count occurrences\n",
    "top_umpire = umpire_counts.idxmax() \n",
    "print(top_umpire)"
   ]
  },
  {
   "cell_type": "markdown",
   "id": "848e8b0a-8972-45af-9139-7007a40095ed",
   "metadata": {},
   "source": [
    "### Task 5: Team with the most toss wins"
   ]
  },
  {
   "cell_type": "code",
   "execution_count": 141,
   "id": "ab13c362-6322-42a0-8ecf-aa9840082e94",
   "metadata": {},
   "outputs": [
    {
     "name": "stdout",
     "output_type": "stream",
     "text": [
      "Mumbai Indians\n"
     ]
    }
   ],
   "source": [
    "toss_wins = df2['toss_winner'].value_counts()\n",
    "#toss_wins\n",
    "top_team = toss_wins.idxmax()\n",
    "print(top_team)"
   ]
  },
  {
   "cell_type": "markdown",
   "id": "ad380357-21dd-4c25-87a5-a43b026913e9",
   "metadata": {},
   "source": [
    "### Task 6: Most frequent decision after winning the toss"
   ]
  },
  {
   "cell_type": "code",
   "execution_count": 143,
   "id": "3e4ab648-3b5d-4a14-97ac-2035d03ef3ad",
   "metadata": {},
   "outputs": [
    {
     "name": "stdout",
     "output_type": "stream",
     "text": [
      "field\n"
     ]
    }
   ],
   "source": [
    "toss_decision = df2['toss_decision'].value_counts()\n",
    "toss_decision\n",
    "top_decision = toss_decision.idxmax()\n",
    "print(top_decision)"
   ]
  },
  {
   "cell_type": "markdown",
   "id": "4a7ad2ec-6929-4f7d-8f72-c81c8f54a66b",
   "metadata": {},
   "source": [
    "### Task 7: Most common match result"
   ]
  },
  {
   "cell_type": "code",
   "execution_count": 66,
   "id": "3ba575e8-1326-4f64-8ed4-7cc3d2aca3a0",
   "metadata": {},
   "outputs": [
    {
     "name": "stdout",
     "output_type": "stream",
     "text": [
      "wickets\n"
     ]
    }
   ],
   "source": [
    "commom_result = df2['result'].value_counts()\n",
    "\n",
    "most_commom = commom_result.idxmax()\n",
    "print(most_commom)"
   ]
  },
  {
   "cell_type": "markdown",
   "id": "7baeb951-7d7b-49c1-bba9-53a8e6c00a56",
   "metadata": {},
   "source": [
    "### Task 8: Team with most matches played"
   ]
  },
  {
   "cell_type": "code",
   "execution_count": 146,
   "id": "dec151c0-ca51-4730-92d1-ddccc09c4b1b",
   "metadata": {},
   "outputs": [
    {
     "name": "stdout",
     "output_type": "stream",
     "text": [
      "Mumbai Indians\n"
     ]
    }
   ],
   "source": [
    "Teams = pd.concat([df2['team1'], df2['team2']])\n",
    "Team_count = Teams.value_counts()  # Count occurrences\n",
    "Top_team = Team_count.idxmax() \n",
    "print(Top_team)"
   ]
  },
  {
   "cell_type": "markdown",
   "id": "4b770991-27ff-4405-9653-57b2d91c3073",
   "metadata": {},
   "source": [
    "### Task 9: Team with most wins"
   ]
  },
  {
   "cell_type": "code",
   "execution_count": 149,
   "id": "d6d8eaae-c645-475f-be4c-6498b803f9cc",
   "metadata": {},
   "outputs": [
    {
     "data": {
      "text/plain": [
       "winner\n",
       "Mumbai Indians                 120\n",
       "Chennai Super Kings            106\n",
       "Kolkata Knight Riders           99\n",
       "Royal Challengers Bangalore     91\n",
       "Kings XI Punjab                 88\n",
       "Rajasthan Royals                81\n",
       "Delhi Daredevils                67\n",
       "Sunrisers Hyderabad             66\n",
       "Deccan Chargers                 29\n",
       "Delhi Capitals                  19\n",
       "Gujarat Lions                   13\n",
       "Pune Warriors                   12\n",
       "Rising Pune Supergiant          10\n",
       "Kochi Tuskers Kerala             6\n",
       "Rising Pune Supergiants          5\n",
       "Name: count, dtype: int64"
      ]
     },
     "execution_count": 149,
     "metadata": {},
     "output_type": "execute_result"
    }
   ],
   "source": [
    "most_wins"
   ]
  },
  {
   "cell_type": "code",
   "execution_count": 145,
   "id": "f2da5852-b301-49d0-896f-bb8f04156303",
   "metadata": {},
   "outputs": [
    {
     "name": "stdout",
     "output_type": "stream",
     "text": [
      "Mumbai Indians\n"
     ]
    }
   ],
   "source": [
    "most_wins = df2['winner'].value_counts()\n",
    "most_wins_top = most_wins.idxmax()\n",
    "print(most_wins_top)"
   ]
  },
  {
   "cell_type": "markdown",
   "id": "e12b6ff5-389f-4a8b-b776-8cdf84a6012d",
   "metadata": {},
   "source": [
    "### Task 10: Team with the highest win percentage"
   ]
  },
  {
   "cell_type": "code",
   "execution_count": 148,
   "id": "6ea343f3-a7ac-42da-85c5-fce6a5378890",
   "metadata": {},
   "outputs": [
    {
     "name": "stdout",
     "output_type": "stream",
     "text": [
      "Rising Pune Supergiant\n"
     ]
    }
   ],
   "source": [
    "\n",
    "matches_played = df2['team1'].value_counts() + df2['team2'].value_counts()\n",
    "# print(matches_played)\n",
    "\n",
    "matches_won = df2['winner'].value_counts()\n",
    "# print(matches_won)\n",
    "\n",
    "win_percentage = (matches_won / matches_played) * 100\n",
    "# print(win_percentage)\n",
    "\n",
    "\n",
    "top_team = win_percentage.idxmax()\n",
    "\n",
    "print(top_team)  \n",
    "\n",
    "\n"
   ]
  },
  {
   "cell_type": "markdown",
   "id": "bf70dc9e-2b2e-4c0e-8d8f-6b327406e49a",
   "metadata": {},
   "source": [
    "### Task 11: Venue where RCB won most matches"
   ]
  },
  {
   "cell_type": "code",
   "execution_count": 92,
   "id": "27c79c77-f4c9-43e6-a999-b396d7b19840",
   "metadata": {},
   "outputs": [
    {
     "name": "stdout",
     "output_type": "stream",
     "text": [
      "M Chinnaswamy Stadium\n"
     ]
    }
   ],
   "source": [
    "\n",
    "rcb_wins = df2[df2['winner'] == 'Royal Challengers Bangalore']\n",
    "rcb_wins\n",
    "\n",
    "venue_counts = rcb_wins['venue'].value_counts()\n",
    "venue_counts\n",
    "top_venue = venue_counts.idxmax()\n",
    "print(top_venue)"
   ]
  },
  {
   "cell_type": "markdown",
   "id": "d08b906d-6512-426f-92df-58ad21cb1e1a",
   "metadata": {},
   "source": [
    "### Task 12: Most frequent dismissal type for \"V Kohli\""
   ]
  },
  {
   "cell_type": "code",
   "execution_count": 151,
   "id": "43889f7b-b90a-41c7-aea3-dc3b03df2348",
   "metadata": {},
   "outputs": [
    {
     "name": "stdout",
     "output_type": "stream",
     "text": [
      "caught\n"
     ]
    }
   ],
   "source": [
    "v_kohli_balls = df1[df1['batsman'] == 'V Kohli']\n",
    "dismisal_count=v_kohli_balls['dismissal_kind'].value_counts()\n",
    "max_dismisal_type= dismisal_count.idxmax()\n",
    "print(max_dismisal_type)"
   ]
  },
  {
   "cell_type": "markdown",
   "id": "3fca9241-46e1-4451-86f7-50728963bbe8",
   "metadata": {},
   "source": [
    "### Task 13: Highest total score in an inning"
   ]
  },
  {
   "cell_type": "code",
   "execution_count": 152,
   "id": "e39e3af7-48d3-46e9-95e6-212fb646cb0c",
   "metadata": {},
   "outputs": [
    {
     "name": "stdout",
     "output_type": "stream",
     "text": [
      "263\n"
     ]
    }
   ],
   "source": [
    "highest_inning_score = df1.groupby(['id', 'inning'])['total_runs'].sum().max()\n",
    "print(highest_inning_score)"
   ]
  },
  {
   "cell_type": "markdown",
   "id": "02a31bb1-76cc-460d-9704-45ed7fe70f20",
   "metadata": {},
   "source": [
    "### Task 14: Batsman with most balls played\n"
   ]
  },
  {
   "cell_type": "code",
   "execution_count": 153,
   "id": "2f1fc2b4-707e-4d8b-8fa3-18b5533ecc89",
   "metadata": {},
   "outputs": [
    {
     "name": "stdout",
     "output_type": "stream",
     "text": [
      "V Kohli\n"
     ]
    }
   ],
   "source": [
    "most_played = df1['batsman'].value_counts()\n",
    "most_no_played=most_played.idxmax()\n",
    "print(most_no_played)"
   ]
  },
  {
   "cell_type": "markdown",
   "id": "96627fd7-3a74-452c-8109-ab4480fdff90",
   "metadata": {},
   "source": [
    "### Task 15: Highest run-scorer"
   ]
  },
  {
   "cell_type": "code",
   "execution_count": 154,
   "id": "fbdf8dc4-3a71-4e92-8266-a9d465a80588",
   "metadata": {},
   "outputs": [
    {
     "data": {
      "text/plain": [
       "'V Kohli'"
      ]
     },
     "execution_count": 154,
     "metadata": {},
     "output_type": "execute_result"
    }
   ],
   "source": [
    "highest_scorer = df1.groupby('batsman')['batsman_runs'].sum().idxmax()\n",
    "highest_scorer"
   ]
  },
  {
   "cell_type": "markdown",
   "id": "d30817c6-fe04-4463-9ccc-6d23b3cd8b92",
   "metadata": {},
   "source": [
    "### Task 16: Batsman with most 4s"
   ]
  },
  {
   "cell_type": "code",
   "execution_count": 155,
   "id": "21fc42a6-1247-40ca-8034-80c8e183829e",
   "metadata": {},
   "outputs": [
    {
     "data": {
      "text/plain": [
       "'V Kohli'"
      ]
     },
     "execution_count": 155,
     "metadata": {},
     "output_type": "execute_result"
    }
   ],
   "source": [
    "runs4only = df1[df1['batsman_runs']==4]\n",
    "highest_scorer = df1.groupby('batsman')['batsman_runs'].sum().idxmax()\n",
    "highest_scorer"
   ]
  },
  {
   "cell_type": "markdown",
   "id": "e20251ab-4cf2-400d-8c78-61deb77c7e7e",
   "metadata": {},
   "source": [
    "### Task 17: Batsman with most 6s"
   ]
  },
  {
   "cell_type": "code",
   "execution_count": 157,
   "id": "4cbe3ec5-47d5-4b9a-9d34-d52f9e4e7384",
   "metadata": {},
   "outputs": [
    {
     "data": {
      "text/plain": [
       "'CH Gayle'"
      ]
     },
     "execution_count": 157,
     "metadata": {},
     "output_type": "execute_result"
    }
   ],
   "source": [
    "runs6only = df1[df1['batsman_runs']==6]\n",
    "highest_scorer6 = runs6only.groupby('batsman')['batsman_runs'].sum().idxmax()\n",
    "highest_scorer6"
   ]
  },
  {
   "cell_type": "markdown",
   "id": "b9633447-2b00-436d-ba82-4958753ea584",
   "metadata": {},
   "source": [
    "### Task 18: Bowler with most wickets"
   ]
  },
  {
   "cell_type": "code",
   "execution_count": 158,
   "id": "a1ed3bae-37a3-4001-bb2f-b57e7ace9472",
   "metadata": {},
   "outputs": [
    {
     "name": "stdout",
     "output_type": "stream",
     "text": [
      "SL Malinga\n"
     ]
    }
   ],
   "source": [
    "is_wic= df1[df1['is_wicket']==1]\n",
    "wic_bowlers = is_wic['bowler'].value_counts()\n",
    "\n",
    "hightest_wic= wic_bowlers.idxmax()\n",
    "print(hightest_wic)"
   ]
  },
  {
   "cell_type": "markdown",
   "id": "bec56db7-9a60-4f9b-a0dc-9d821320c0c1",
   "metadata": {},
   "source": [
    "### Task 19: Stadium with most matches"
   ]
  },
  {
   "cell_type": "code",
   "execution_count": 159,
   "id": "d3486156-9be1-4cef-97da-aadc9febcf9f",
   "metadata": {},
   "outputs": [
    {
     "name": "stdout",
     "output_type": "stream",
     "text": [
      "Eden Gardens\n"
     ]
    }
   ],
   "source": [
    "max_venue_count = df2['venue'].value_counts()\n",
    "max_venue = max_venue_count.idxmax()\n",
    "print(max_venue)"
   ]
  },
  {
   "cell_type": "markdown",
   "id": "1b250ca5-ae5d-45ee-8ce4-5893a02dab8e",
   "metadata": {},
   "source": [
    "### Task 20: Most \"Man of the Match\" awards"
   ]
  },
  {
   "cell_type": "code",
   "execution_count": 160,
   "id": "a361f6be-0566-4673-b194-853080ca855a",
   "metadata": {},
   "outputs": [
    {
     "name": "stdout",
     "output_type": "stream",
     "text": [
      "AB de Villiers\n"
     ]
    }
   ],
   "source": [
    "max_ptm_count = df2['player_of_match'].value_counts()\n",
    "max_ptm = max_ptm_count.idxmax()\n",
    "print(max_ptm)"
   ]
  },
  {
   "cell_type": "code",
   "execution_count": null,
   "id": "04d0df9d-6163-4357-aeb6-5e635adcc59f",
   "metadata": {},
   "outputs": [],
   "source": []
  }
 ],
 "metadata": {
  "kernelspec": {
   "display_name": "Python 3 (ipykernel)",
   "language": "python",
   "name": "python3"
  },
  "language_info": {
   "codemirror_mode": {
    "name": "ipython",
    "version": 3
   },
   "file_extension": ".py",
   "mimetype": "text/x-python",
   "name": "python",
   "nbconvert_exporter": "python",
   "pygments_lexer": "ipython3",
   "version": "3.11.5"
  }
 },
 "nbformat": 4,
 "nbformat_minor": 5
}
